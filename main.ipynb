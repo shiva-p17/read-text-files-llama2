{
  "cells": [
    {
      "cell_type": "code",
      "execution_count": null,
      "metadata": {
        "id": "ICUX_x7lTzPM"
      },
      "outputs": [],
      "source": [
        "#pip install llama-hub"
      ]
    },
    {
      "cell_type": "code",
      "execution_count": null,
      "metadata": {
        "id": "nsxzU0oIT6gF"
      },
      "outputs": [],
      "source": [
        "import os\n",
        "os.environ[\"OPENAI_API_KEY\"]=\"#################\""
      ]
    },
    {
      "cell_type": "code",
      "execution_count": null,
      "metadata": {
        "id": "CsfFiQshUYvB"
      },
      "outputs": [],
      "source": [
        "from llama_index import VectorStoreIndex, SimpleDirectoryReader\n",
        "\n",
        "textFiles= SimpleDirectoryReader(\"./sleep\").load_data()"
      ]
    },
    {
      "cell_type": "code",
      "execution_count": null,
      "metadata": {
        "colab": {
          "base_uri": "https://localhost:8080/",
          "height": 81,
          "referenced_widgets": [
            "f45034ff491541a392d52367166b4bb7",
            "63c51112b7b44a67a316c7a33362a59c",
            "118758d4994947938c871c02406ea064",
            "033ce516a1e849a89cb9df926b660ece",
            "954c0fa297ad4cfdb33e839d063ff6dc",
            "700879f15aba4a1eb2792afc9cb55aca",
            "115dc9d7dae74d79a22de14f9cf923b9",
            "143a89746d17428384acd8280d9eb6d7",
            "8a17a30815a24a12a3b8bd1950c29f10",
            "0486c6759cad41e9bd30c4625aa8a9d2",
            "ead8b7299a93436595adeef3c9f41727",
            "af456670bab44e15ba86ed97793799ad",
            "54b56394785f49e3a64d62b530381ba5",
            "7e42ae559b3c40c0a0018698cbd35306",
            "69b58f32f4554634b02b2c72b60fc1e5",
            "e72ba9b44537457eb83779e251976464",
            "caa2ccc7f4f84a0287e2d8c1860b53f5",
            "cd7d0dde01a348e89a05d5a2be4a8cdb",
            "b54e9a8af8e249b58251ef1427cb4110",
            "2e715852a2b4455e8779c98bd4b65a8f",
            "4adeeaa6bb424f359a36c5bc4e897e2e",
            "ecb3c727d42c4f1bac243d8bdf0f0efb"
          ]
        },
        "id": "SY0w2KFrVZWc",
        "outputId": "de610932-c7ad-43c7-ed0b-47e246f68b0c"
      },
      "outputs": [
        {
          "data": {
            "application/vnd.jupyter.widget-view+json": {
              "model_id": "f45034ff491541a392d52367166b4bb7",
              "version_major": 2,
              "version_minor": 0
            },
            "text/plain": [
              "Parsing nodes:   0%|          | 0/6 [00:00<?, ?it/s]"
            ]
          },
          "metadata": {},
          "output_type": "display_data"
        },
        {
          "data": {
            "application/vnd.jupyter.widget-view+json": {
              "model_id": "af456670bab44e15ba86ed97793799ad",
              "version_major": 2,
              "version_minor": 0
            },
            "text/plain": [
              "Generating embeddings:   0%|          | 0/173 [00:00<?, ?it/s]"
            ]
          },
          "metadata": {},
          "output_type": "display_data"
        }
      ],
      "source": [
        "index= VectorStoreIndex.from_documents(textFiles, show_progress=True)"
      ]
    },
    {
      "cell_type": "code",
      "execution_count": null,
      "metadata": {
        "id": "gSnHVo53VjLY"
      },
      "outputs": [],
      "source": [
        "query_engine= index.as_query_engine()"
      ]
    },
    {
      "cell_type": "code",
      "execution_count": null,
      "metadata": {
        "id": "cADn_-CuVv4S"
      },
      "outputs": [],
      "source": [
        "response= query_engine.query(\"How to fall sleep quickly?\")"
      ]
    },
    {
      "cell_type": "code",
      "execution_count": null,
      "metadata": {
        "colab": {
          "base_uri": "https://localhost:8080/"
        },
        "id": "k0lIpdUgV8hF",
        "outputId": "a95ac4da-dc1b-47f8-fa37-312db04388c7"
      },
      "outputs": [
        {
          "name": "stdout",
          "output_type": "stream",
          "text": [
            "To fall asleep quickly, there are several strategies you can try based on the given context. One approach is to ensure you get exposure to morning sunlight, as it can help regulate your sleep-wake cycle and make you feel more alert during the day. Additionally, leveraging temperature as a tool can be beneficial. Taking a cold shower or exposing yourself to cold water for one to three minutes can wake you up and increase your core body temperature, which can aid in falling asleep later. Exercise is another effective way to increase your core body temperature early in the day, so consider incorporating physical activity into your morning routine. Lastly, while not directly related to falling asleep quickly, it's worth mentioning that caffeine can impact sleep. If you are sensitive to caffeine or prone to anxiety, it may be best to avoid consuming it.\n"
          ]
        }
      ],
      "source": []
    },
    {
      "cell_type": "code",
      "execution_count": null,
      "metadata": {
        "id": "5JDBPTvhWAzy"
      },
      "outputs": [],
      "source": [
        "#To use print utils\n",
        "from llama_index.response.pprint_utils import pprint_response\n"
      ]
    },
    {
      "cell_type": "code",
      "execution_count": null,
      "metadata": {
        "colab": {
          "base_uri": "https://localhost:8080/"
        },
        "id": "wbpyjNwfW5J0",
        "outputId": "ebeda5bc-92de-4831-eef5-6d0e82e93aef"
      },
      "outputs": [
        {
          "name": "stdout",
          "output_type": "stream",
          "text": [
            "Final Response: To fall asleep quickly, there are several strategies\n",
            "you can try based on the given context. One approach is to ensure you\n",
            "get exposure to morning sunlight, as it can help regulate your sleep-\n",
            "wake cycle and make you feel more alert during the day. Additionally,\n",
            "leveraging temperature as a tool can be beneficial. Taking a cold\n",
            "shower or exposing yourself to cold water for one to three minutes can\n",
            "wake you up and increase your core body temperature, which can aid in\n",
            "falling asleep later. Exercise is another effective way to increase\n",
            "your core body temperature early in the day, so consider incorporating\n",
            "physical activity into your morning routine. Lastly, while not\n",
            "directly related to falling asleep quickly, it's worth mentioning that\n",
            "caffeine can impact sleep. If you are sensitive to caffeine or prone\n",
            "to anxiety, it may be best to avoid consuming it.\n",
            "______________________________________________________________________\n",
            "Source Node 1/2\n",
            "Node ID: 5f809d19-3a34-46f2-b674-6a502224ab7c\n",
            "Similarity: 0.8389599226615886\n",
            "Text: Fundamentally speaking, get that morning sunlight viewing. I\n",
            "promise you will be grateful that you did. It makes everybody feel\n",
            "better, feel more alert, and it will greatly assist with your ability\n",
            "to fall and stay asleep later that night. Before we continue with\n",
            "today's discussion, we're going to take a brief pause to acknowledge\n",
            "our sponsor, A...\n",
            "______________________________________________________________________\n",
            "Source Node 2/2\n",
            "Node ID: 7c1e7f15-d8ca-43e5-a9fe-5fb1e0a603fa\n",
            "Similarity: 0.8345076496758687\n",
            "Text: One to three minutes of cold water exposure will wake you up\n",
            "because of that adrenaline release and, and I want to highlight the\n",
            "and, it will serve to increase your core body temperature. That's\n",
            "right, your body and brain interact as a bit of a thermostat system\n",
            "where if you put something cold on the surface of your body, your\n",
            "brain, a little cl...\n"
          ]
        }
      ],
      "source": [
        "pprint_response(response, show_source=True)\n",
        "# show_source=True  to show full response with similarity percentage"
      ]
    },
    {
      "cell_type": "code",
      "execution_count": null,
      "metadata": {
        "id": "r0qIrSK2XNWo"
      },
      "outputs": [],
      "source": [
        "#to controll number of outputs\n",
        "from llama_index.retrievers import VectorIndexRetriever\n",
        "from llama_index.query_engine import RetrieverQueryEngine\n",
        "\n",
        "\n",
        "retriver = VectorIndexRetriever(\n",
        "    index=index,\n",
        "    similarity_top_k=4\n",
        ")\n",
        "\n",
        "query_engine= RetrieverQueryEngine(\n",
        "    retriever=retriver\n",
        ")\n",
        "\n"
      ]
    },
    {
      "cell_type": "code",
      "execution_count": null,
      "metadata": {
        "colab": {
          "base_uri": "https://localhost:8080/"
        },
        "id": "W6em8tK1Xf8p",
        "outputId": "f8020b56-349b-479a-ce8d-2d3a5cb79058"
      },
      "outputs": [
        {
          "name": "stdout",
          "output_type": "stream",
          "text": [
            "Final Response: If you're looking to fall asleep quickly, there are a\n",
            "few strategies you can try. One option is to expose yourself to bright\n",
            "sunlight within the first hour of waking up. This can help regulate\n",
            "your body temperature and cortisol levels, which can contribute to\n",
            "better sleep later on. Another approach is to take a cold shower or\n",
            "immerse yourself in cold water for a few minutes. This can increase\n",
            "your core body temperature and make you feel more alert, which can aid\n",
            "in falling asleep faster. Additionally, engaging in exercise earlier\n",
            "in the day can raise your core body temperature and promote better\n",
            "sleep at night. Lastly, creating a cool and comfortable sleeping\n",
            "environment is important, as dropping your core body temperature by a\n",
            "few degrees can help induce sleep.\n",
            "______________________________________________________________________\n",
            "Source Node 1/4\n",
            "Node ID: 73ba847b-bfff-46d4-8d83-cbb2fb354112\n",
            "Similarity: 0.8389397982001108\n",
            "Text: Fundamentally speaking, get that morning sunlight viewing. I\n",
            "promise you will be grateful that you did. It makes everybody feel\n",
            "better, feel more alert, and it will greatly assist with your ability\n",
            "to fall and stay asleep later that night. Before we continue with\n",
            "today's discussion, we're going to take a brief pause to acknowledge\n",
            "our sponsor, A...\n",
            "______________________________________________________________________\n",
            "Source Node 2/4\n",
            "Node ID: 6b1bf884-8f35-46d5-addf-5e147f3fd9a4\n",
            "Similarity: 0.8344908647792687\n",
            "Text: One to three minutes of cold water exposure will wake you up\n",
            "because of that adrenaline release and, and I want to highlight the\n",
            "and, it will serve to increase your core body temperature. That's\n",
            "right, your body and brain interact as a bit of a thermostat system\n",
            "where if you put something cold on the surface of your body, your\n",
            "brain, a little cl...\n",
            "______________________________________________________________________\n",
            "Source Node 3/4\n",
            "Node ID: e2472076-31dd-4f64-9a9a-3132d5b9948d\n",
            "Similarity: 0.833944384330232\n",
            "Text: Things like glycine and GABA, as well as inositol. Many people\n",
            "are going to find inositol interesting and of particular use to them,\n",
            "especially if they're following a low-carbohydrate diet or if they are\n",
            "fasting before sleep or just trying to avoid eating too close to\n",
            "bedtime and yet they're having a hard time falling asleep. Inositol\n",
            "also turns...\n",
            "______________________________________________________________________\n",
            "Source Node 4/4\n",
            "Node ID: 2977eb24-6722-489a-955d-9738e77e0f63\n",
            "Similarity: 0.8302864950424623\n",
            "Text: Again, depends on time of year, depends on technology, depends\n",
            "on budgets, et cetera. But you're going to want to sleep in a\n",
            "relatively cool or cold sleeping environment and then layer on the\n",
            "blankets as needed to stay asleep. And I say as needed because one of\n",
            "the things that you're going to do in your sleep, or if you happen to\n",
            "wake up, is if ...\n"
          ]
        }
      ],
      "source": [
        "response= query_engine.query(\"How to fall sleep quickly?\")\n",
        "pprint_response(response, show_source=True)"
      ]
    },
    {
      "cell_type": "code",
      "execution_count": null,
      "metadata": {
        "colab": {
          "base_uri": "https://localhost:8080/"
        },
        "id": "jBgEvQi3ZVN9",
        "outputId": "51fafe6a-680b-4f36-c95c-ce9ee3f8c7dc"
      },
      "outputs": [
        {
          "name": "stdout",
          "output_type": "stream",
          "text": [
            "Final Response: To fall asleep quickly, there are a few strategies you\n",
            "can try. One approach is to expose yourself to bright sunlight in the\n",
            "morning, as this helps regulate your body temperature and cortisol\n",
            "levels, which can promote better sleep later on. Another option is to\n",
            "take a hot shower or bath and then cool off afterward, as this can\n",
            "lower your core body temperature and help you relax. Engaging in\n",
            "exercise earlier in the day can also increase your core body\n",
            "temperature and promote wakefulness, making it easier to fall asleep\n",
            "at night. Lastly, creating a cool and comfortable sleeping environment\n",
            "is important, as lowering your core body temperature by one to three\n",
            "degrees can facilitate sleep.\n",
            "______________________________________________________________________\n",
            "Source Node 1/4\n",
            "Node ID: 73ba847b-bfff-46d4-8d83-cbb2fb354112\n",
            "Similarity: 0.8389397982001108\n",
            "Text: Fundamentally speaking, get that morning sunlight viewing. I\n",
            "promise you will be grateful that you did. It makes everybody feel\n",
            "better, feel more alert, and it will greatly assist with your ability\n",
            "to fall and stay asleep later that night. Before we continue with\n",
            "today's discussion, we're going to take a brief pause to acknowledge\n",
            "our sponsor, A...\n",
            "______________________________________________________________________\n",
            "Source Node 2/4\n",
            "Node ID: 6b1bf884-8f35-46d5-addf-5e147f3fd9a4\n",
            "Similarity: 0.8344908647792687\n",
            "Text: One to three minutes of cold water exposure will wake you up\n",
            "because of that adrenaline release and, and I want to highlight the\n",
            "and, it will serve to increase your core body temperature. That's\n",
            "right, your body and brain interact as a bit of a thermostat system\n",
            "where if you put something cold on the surface of your body, your\n",
            "brain, a little cl...\n",
            "______________________________________________________________________\n",
            "Source Node 3/4\n",
            "Node ID: e2472076-31dd-4f64-9a9a-3132d5b9948d\n",
            "Similarity: 0.833944384330232\n",
            "Text: Things like glycine and GABA, as well as inositol. Many people\n",
            "are going to find inositol interesting and of particular use to them,\n",
            "especially if they're following a low-carbohydrate diet or if they are\n",
            "fasting before sleep or just trying to avoid eating too close to\n",
            "bedtime and yet they're having a hard time falling asleep. Inositol\n",
            "also turns...\n",
            "______________________________________________________________________\n",
            "Source Node 4/4\n",
            "Node ID: 2977eb24-6722-489a-955d-9738e77e0f63\n",
            "Similarity: 0.8302864950424623\n",
            "Text: Again, depends on time of year, depends on technology, depends\n",
            "on budgets, et cetera. But you're going to want to sleep in a\n",
            "relatively cool or cold sleeping environment and then layer on the\n",
            "blankets as needed to stay asleep. And I say as needed because one of\n",
            "the things that you're going to do in your sleep, or if you happen to\n",
            "wake up, is if ...\n"
          ]
        }
      ],
      "source": [
        "#set similarity threshold\n",
        "from llama_index.indices.postprocessor import SimilarityPostprocessor\n",
        "\n",
        "s_processor = SimilarityPostprocessor(similarity_cutoff=0.80)\n",
        "\n",
        "\n",
        "query_engine= RetrieverQueryEngine(\n",
        "    retriever=retriver,\n",
        "    node_postprocessors=[s_processor]\n",
        ")\n",
        "\n",
        "\n",
        "response= query_engine.query(\"How to fall sleep quickly?\")\n",
        "pprint_response(response, show_source=True)"
      ]
    },
    {
      "cell_type": "code",
      "execution_count": null,
      "metadata": {
        "colab": {
          "base_uri": "https://localhost:8080/"
        },
        "id": "FSUO0EkVaR73",
        "outputId": "67a9df52-e5f1-4200-e336-8b73cf2eaea8"
      },
      "outputs": [
        {
          "name": "stdout",
          "output_type": "stream",
          "text": [
            "Final Response: To fall asleep quickly, there are a few strategies you\n",
            "can try. One option is to expose yourself to bright sunlight in the\n",
            "morning, as this can help increase your body temperature and promote\n",
            "alertness during the day, setting the stage for better sleep at night.\n",
            "Another approach is to take a cold shower or immerse yourself in cold\n",
            "water for a short period of time. This can wake you up by releasing\n",
            "adrenaline and dopamine, while paradoxically increasing your core body\n",
            "temperature, making it easier to fall asleep later on. Engaging in\n",
            "exercise earlier in the day can also raise your core body temperature\n",
            "and help you feel more awake, making it easier to fall asleep at\n",
            "night. Lastly, creating a cool or cold sleeping environment can aid in\n",
            "falling asleep quickly. Lowering the temperature in your bedroom and\n",
            "using blankets that can be adjusted as needed allows you to regulate\n",
            "your body temperature and promote better sleep.\n",
            "______________________________________________________________________\n",
            "Source Node 1/4\n",
            "Node ID: 73ba847b-bfff-46d4-8d83-cbb2fb354112\n",
            "Similarity: 0.8389397982001108\n",
            "Text: Fundamentally speaking, get that morning sunlight viewing. I\n",
            "promise you will be grateful that you did. It makes everybody feel\n",
            "better, feel more alert, and it will greatly assist with your ability\n",
            "to fall and stay asleep later that night. Before we continue with\n",
            "today's discussion, we're going to take a brief pause to acknowledge\n",
            "our sponsor, A...\n",
            "______________________________________________________________________\n",
            "Source Node 2/4\n",
            "Node ID: 6b1bf884-8f35-46d5-addf-5e147f3fd9a4\n",
            "Similarity: 0.8344908647792687\n",
            "Text: One to three minutes of cold water exposure will wake you up\n",
            "because of that adrenaline release and, and I want to highlight the\n",
            "and, it will serve to increase your core body temperature. That's\n",
            "right, your body and brain interact as a bit of a thermostat system\n",
            "where if you put something cold on the surface of your body, your\n",
            "brain, a little cl...\n",
            "______________________________________________________________________\n",
            "Source Node 3/4\n",
            "Node ID: e2472076-31dd-4f64-9a9a-3132d5b9948d\n",
            "Similarity: 0.833944384330232\n",
            "Text: Things like glycine and GABA, as well as inositol. Many people\n",
            "are going to find inositol interesting and of particular use to them,\n",
            "especially if they're following a low-carbohydrate diet or if they are\n",
            "fasting before sleep or just trying to avoid eating too close to\n",
            "bedtime and yet they're having a hard time falling asleep. Inositol\n",
            "also turns...\n",
            "______________________________________________________________________\n",
            "Source Node 4/4\n",
            "Node ID: 2977eb24-6722-489a-955d-9738e77e0f63\n",
            "Similarity: 0.8302864950424623\n",
            "Text: Again, depends on time of year, depends on technology, depends\n",
            "on budgets, et cetera. But you're going to want to sleep in a\n",
            "relatively cool or cold sleeping environment and then layer on the\n",
            "blankets as needed to stay asleep. And I say as needed because one of\n",
            "the things that you're going to do in your sleep, or if you happen to\n",
            "wake up, is if ...\n"
          ]
        }
      ],
      "source": [
        "#to exclude kewords on the result\n",
        "from llama_index.indices.postprocessor import KeywordNodePostprocessor\n",
        "\n",
        "k_processor= KeywordNodePostprocessor(\n",
        "    exclude_keywords=['gaba']\n",
        ")\n",
        "\n",
        "query_engine= RetrieverQueryEngine(\n",
        "    retriever=retriver,\n",
        "    node_postprocessors=[s_processor,k_processor]\n",
        ")\n",
        "\n",
        "\n",
        "response= query_engine.query(\"How to fall sleep quickly?\")\n",
        "pprint_response(response, show_source=True)"
      ]
    },
    {
      "cell_type": "code",
      "execution_count": null,
      "metadata": {
        "colab": {
          "base_uri": "https://localhost:8080/"
        },
        "id": "h2Pqib50bM-K",
        "outputId": "65061c7d-eb7a-452d-dbbf-1ddece60b9b4"
      },
      "outputs": [
        {
          "name": "stdout",
          "output_type": "stream",
          "text": [
            "Final Response:\n",
            "______________________________________________________________________\n",
            "Source Node 1/4\n",
            "Node ID: 73ba847b-bfff-46d4-8d83-cbb2fb354112\n",
            "Similarity: 0.8389397982001108\n",
            "Text: Fundamentally speaking, get that morning sunlight viewing. I\n",
            "promise you will be grateful that you did. It makes everybody feel\n",
            "better, feel more alert, and it will greatly assist with your ability\n",
            "to fall and stay asleep later that night. Before we continue with\n",
            "today's discussion, we're going to take a brief pause to acknowledge\n",
            "our sponsor, A...\n",
            "______________________________________________________________________\n",
            "Source Node 2/4\n",
            "Node ID: 6b1bf884-8f35-46d5-addf-5e147f3fd9a4\n",
            "Similarity: 0.8344908647792687\n",
            "Text: One to three minutes of cold water exposure will wake you up\n",
            "because of that adrenaline release and, and I want to highlight the\n",
            "and, it will serve to increase your core body temperature. That's\n",
            "right, your body and brain interact as a bit of a thermostat system\n",
            "where if you put something cold on the surface of your body, your\n",
            "brain, a little cl...\n",
            "______________________________________________________________________\n",
            "Source Node 3/4\n",
            "Node ID: e2472076-31dd-4f64-9a9a-3132d5b9948d\n",
            "Similarity: 0.833944384330232\n",
            "Text: Things like glycine and GABA, as well as inositol. Many people\n",
            "are going to find inositol interesting and of particular use to them,\n",
            "especially if they're following a low-carbohydrate diet or if they are\n",
            "fasting before sleep or just trying to avoid eating too close to\n",
            "bedtime and yet they're having a hard time falling asleep. Inositol\n",
            "also turns...\n",
            "______________________________________________________________________\n",
            "Source Node 4/4\n",
            "Node ID: 2977eb24-6722-489a-955d-9738e77e0f63\n",
            "Similarity: 0.8302864950424623\n",
            "Text: Again, depends on time of year, depends on technology, depends\n",
            "on budgets, et cetera. But you're going to want to sleep in a\n",
            "relatively cool or cold sleeping environment and then layer on the\n",
            "blankets as needed to stay asleep. And I say as needed because one of\n",
            "the things that you're going to do in your sleep, or if you happen to\n",
            "wake up, is if ...\n"
          ]
        }
      ],
      "source": [
        "# if you don't want to send data to LLM\n",
        "from llama_index.response_synthesizers import get_response_synthesizer\n",
        "response_synthesizer = get_response_synthesizer(\n",
        "    response_mode=\"no_text\"\n",
        ")\n",
        "\n",
        "query_engine= RetrieverQueryEngine(\n",
        "    retriever=retriver,\n",
        "    node_postprocessors=[s_processor,k_processor],\n",
        "    response_synthesizer=response_synthesizer\n",
        ")\n",
        "\n",
        "\n",
        "response= query_engine.query(\"How to fall sleep quickly?\")\n",
        "pprint_response(response, show_source=True)\n"
      ]
    },
    {
      "cell_type": "code",
      "execution_count": null,
      "metadata": {
        "id": "P4rzq60rcNSw"
      },
      "outputs": [],
      "source": []
    }
  ],
  "metadata": {
    "colab": {
      "provenance": []
    },
    "kernelspec": {
      "display_name": "Python 3",
      "name": "python3"
    },
    "language_info": {
      "name": "python"
    },
    "widgets": {
      "application/vnd.jupyter.widget-state+json": {
        "033ce516a1e849a89cb9df926b660ece": {
          "model_module": "@jupyter-widgets/controls",
          "model_module_version": "1.5.0",
          "model_name": "HTMLModel",
          "state": {
            "_dom_classes": [],
            "_model_module": "@jupyter-widgets/controls",
            "_model_module_version": "1.5.0",
            "_model_name": "HTMLModel",
            "_view_count": null,
            "_view_module": "@jupyter-widgets/controls",
            "_view_module_version": "1.5.0",
            "_view_name": "HTMLView",
            "description": "",
            "description_tooltip": null,
            "layout": "IPY_MODEL_0486c6759cad41e9bd30c4625aa8a9d2",
            "placeholder": "​",
            "style": "IPY_MODEL_ead8b7299a93436595adeef3c9f41727",
            "value": " 6/6 [00:00&lt;00:00,  7.46it/s]"
          }
        },
        "0486c6759cad41e9bd30c4625aa8a9d2": {
          "model_module": "@jupyter-widgets/base",
          "model_module_version": "1.2.0",
          "model_name": "LayoutModel",
          "state": {
            "_model_module": "@jupyter-widgets/base",
            "_model_module_version": "1.2.0",
            "_model_name": "LayoutModel",
            "_view_count": null,
            "_view_module": "@jupyter-widgets/base",
            "_view_module_version": "1.2.0",
            "_view_name": "LayoutView",
            "align_content": null,
            "align_items": null,
            "align_self": null,
            "border": null,
            "bottom": null,
            "display": null,
            "flex": null,
            "flex_flow": null,
            "grid_area": null,
            "grid_auto_columns": null,
            "grid_auto_flow": null,
            "grid_auto_rows": null,
            "grid_column": null,
            "grid_gap": null,
            "grid_row": null,
            "grid_template_areas": null,
            "grid_template_columns": null,
            "grid_template_rows": null,
            "height": null,
            "justify_content": null,
            "justify_items": null,
            "left": null,
            "margin": null,
            "max_height": null,
            "max_width": null,
            "min_height": null,
            "min_width": null,
            "object_fit": null,
            "object_position": null,
            "order": null,
            "overflow": null,
            "overflow_x": null,
            "overflow_y": null,
            "padding": null,
            "right": null,
            "top": null,
            "visibility": null,
            "width": null
          }
        },
        "115dc9d7dae74d79a22de14f9cf923b9": {
          "model_module": "@jupyter-widgets/controls",
          "model_module_version": "1.5.0",
          "model_name": "DescriptionStyleModel",
          "state": {
            "_model_module": "@jupyter-widgets/controls",
            "_model_module_version": "1.5.0",
            "_model_name": "DescriptionStyleModel",
            "_view_count": null,
            "_view_module": "@jupyter-widgets/base",
            "_view_module_version": "1.2.0",
            "_view_name": "StyleView",
            "description_width": ""
          }
        },
        "118758d4994947938c871c02406ea064": {
          "model_module": "@jupyter-widgets/controls",
          "model_module_version": "1.5.0",
          "model_name": "FloatProgressModel",
          "state": {
            "_dom_classes": [],
            "_model_module": "@jupyter-widgets/controls",
            "_model_module_version": "1.5.0",
            "_model_name": "FloatProgressModel",
            "_view_count": null,
            "_view_module": "@jupyter-widgets/controls",
            "_view_module_version": "1.5.0",
            "_view_name": "ProgressView",
            "bar_style": "success",
            "description": "",
            "description_tooltip": null,
            "layout": "IPY_MODEL_143a89746d17428384acd8280d9eb6d7",
            "max": 6,
            "min": 0,
            "orientation": "horizontal",
            "style": "IPY_MODEL_8a17a30815a24a12a3b8bd1950c29f10",
            "value": 6
          }
        },
        "143a89746d17428384acd8280d9eb6d7": {
          "model_module": "@jupyter-widgets/base",
          "model_module_version": "1.2.0",
          "model_name": "LayoutModel",
          "state": {
            "_model_module": "@jupyter-widgets/base",
            "_model_module_version": "1.2.0",
            "_model_name": "LayoutModel",
            "_view_count": null,
            "_view_module": "@jupyter-widgets/base",
            "_view_module_version": "1.2.0",
            "_view_name": "LayoutView",
            "align_content": null,
            "align_items": null,
            "align_self": null,
            "border": null,
            "bottom": null,
            "display": null,
            "flex": null,
            "flex_flow": null,
            "grid_area": null,
            "grid_auto_columns": null,
            "grid_auto_flow": null,
            "grid_auto_rows": null,
            "grid_column": null,
            "grid_gap": null,
            "grid_row": null,
            "grid_template_areas": null,
            "grid_template_columns": null,
            "grid_template_rows": null,
            "height": null,
            "justify_content": null,
            "justify_items": null,
            "left": null,
            "margin": null,
            "max_height": null,
            "max_width": null,
            "min_height": null,
            "min_width": null,
            "object_fit": null,
            "object_position": null,
            "order": null,
            "overflow": null,
            "overflow_x": null,
            "overflow_y": null,
            "padding": null,
            "right": null,
            "top": null,
            "visibility": null,
            "width": null
          }
        },
        "2e715852a2b4455e8779c98bd4b65a8f": {
          "model_module": "@jupyter-widgets/controls",
          "model_module_version": "1.5.0",
          "model_name": "ProgressStyleModel",
          "state": {
            "_model_module": "@jupyter-widgets/controls",
            "_model_module_version": "1.5.0",
            "_model_name": "ProgressStyleModel",
            "_view_count": null,
            "_view_module": "@jupyter-widgets/base",
            "_view_module_version": "1.2.0",
            "_view_name": "StyleView",
            "bar_color": null,
            "description_width": ""
          }
        },
        "4adeeaa6bb424f359a36c5bc4e897e2e": {
          "model_module": "@jupyter-widgets/base",
          "model_module_version": "1.2.0",
          "model_name": "LayoutModel",
          "state": {
            "_model_module": "@jupyter-widgets/base",
            "_model_module_version": "1.2.0",
            "_model_name": "LayoutModel",
            "_view_count": null,
            "_view_module": "@jupyter-widgets/base",
            "_view_module_version": "1.2.0",
            "_view_name": "LayoutView",
            "align_content": null,
            "align_items": null,
            "align_self": null,
            "border": null,
            "bottom": null,
            "display": null,
            "flex": null,
            "flex_flow": null,
            "grid_area": null,
            "grid_auto_columns": null,
            "grid_auto_flow": null,
            "grid_auto_rows": null,
            "grid_column": null,
            "grid_gap": null,
            "grid_row": null,
            "grid_template_areas": null,
            "grid_template_columns": null,
            "grid_template_rows": null,
            "height": null,
            "justify_content": null,
            "justify_items": null,
            "left": null,
            "margin": null,
            "max_height": null,
            "max_width": null,
            "min_height": null,
            "min_width": null,
            "object_fit": null,
            "object_position": null,
            "order": null,
            "overflow": null,
            "overflow_x": null,
            "overflow_y": null,
            "padding": null,
            "right": null,
            "top": null,
            "visibility": null,
            "width": null
          }
        },
        "54b56394785f49e3a64d62b530381ba5": {
          "model_module": "@jupyter-widgets/controls",
          "model_module_version": "1.5.0",
          "model_name": "HTMLModel",
          "state": {
            "_dom_classes": [],
            "_model_module": "@jupyter-widgets/controls",
            "_model_module_version": "1.5.0",
            "_model_name": "HTMLModel",
            "_view_count": null,
            "_view_module": "@jupyter-widgets/controls",
            "_view_module_version": "1.5.0",
            "_view_name": "HTMLView",
            "description": "",
            "description_tooltip": null,
            "layout": "IPY_MODEL_caa2ccc7f4f84a0287e2d8c1860b53f5",
            "placeholder": "​",
            "style": "IPY_MODEL_cd7d0dde01a348e89a05d5a2be4a8cdb",
            "value": "Generating embeddings: 100%"
          }
        },
        "63c51112b7b44a67a316c7a33362a59c": {
          "model_module": "@jupyter-widgets/controls",
          "model_module_version": "1.5.0",
          "model_name": "HTMLModel",
          "state": {
            "_dom_classes": [],
            "_model_module": "@jupyter-widgets/controls",
            "_model_module_version": "1.5.0",
            "_model_name": "HTMLModel",
            "_view_count": null,
            "_view_module": "@jupyter-widgets/controls",
            "_view_module_version": "1.5.0",
            "_view_name": "HTMLView",
            "description": "",
            "description_tooltip": null,
            "layout": "IPY_MODEL_700879f15aba4a1eb2792afc9cb55aca",
            "placeholder": "​",
            "style": "IPY_MODEL_115dc9d7dae74d79a22de14f9cf923b9",
            "value": "Parsing nodes: 100%"
          }
        },
        "69b58f32f4554634b02b2c72b60fc1e5": {
          "model_module": "@jupyter-widgets/controls",
          "model_module_version": "1.5.0",
          "model_name": "HTMLModel",
          "state": {
            "_dom_classes": [],
            "_model_module": "@jupyter-widgets/controls",
            "_model_module_version": "1.5.0",
            "_model_name": "HTMLModel",
            "_view_count": null,
            "_view_module": "@jupyter-widgets/controls",
            "_view_module_version": "1.5.0",
            "_view_name": "HTMLView",
            "description": "",
            "description_tooltip": null,
            "layout": "IPY_MODEL_4adeeaa6bb424f359a36c5bc4e897e2e",
            "placeholder": "​",
            "style": "IPY_MODEL_ecb3c727d42c4f1bac243d8bdf0f0efb",
            "value": " 173/173 [00:05&lt;00:00, 30.04it/s]"
          }
        },
        "700879f15aba4a1eb2792afc9cb55aca": {
          "model_module": "@jupyter-widgets/base",
          "model_module_version": "1.2.0",
          "model_name": "LayoutModel",
          "state": {
            "_model_module": "@jupyter-widgets/base",
            "_model_module_version": "1.2.0",
            "_model_name": "LayoutModel",
            "_view_count": null,
            "_view_module": "@jupyter-widgets/base",
            "_view_module_version": "1.2.0",
            "_view_name": "LayoutView",
            "align_content": null,
            "align_items": null,
            "align_self": null,
            "border": null,
            "bottom": null,
            "display": null,
            "flex": null,
            "flex_flow": null,
            "grid_area": null,
            "grid_auto_columns": null,
            "grid_auto_flow": null,
            "grid_auto_rows": null,
            "grid_column": null,
            "grid_gap": null,
            "grid_row": null,
            "grid_template_areas": null,
            "grid_template_columns": null,
            "grid_template_rows": null,
            "height": null,
            "justify_content": null,
            "justify_items": null,
            "left": null,
            "margin": null,
            "max_height": null,
            "max_width": null,
            "min_height": null,
            "min_width": null,
            "object_fit": null,
            "object_position": null,
            "order": null,
            "overflow": null,
            "overflow_x": null,
            "overflow_y": null,
            "padding": null,
            "right": null,
            "top": null,
            "visibility": null,
            "width": null
          }
        },
        "7e42ae559b3c40c0a0018698cbd35306": {
          "model_module": "@jupyter-widgets/controls",
          "model_module_version": "1.5.0",
          "model_name": "FloatProgressModel",
          "state": {
            "_dom_classes": [],
            "_model_module": "@jupyter-widgets/controls",
            "_model_module_version": "1.5.0",
            "_model_name": "FloatProgressModel",
            "_view_count": null,
            "_view_module": "@jupyter-widgets/controls",
            "_view_module_version": "1.5.0",
            "_view_name": "ProgressView",
            "bar_style": "success",
            "description": "",
            "description_tooltip": null,
            "layout": "IPY_MODEL_b54e9a8af8e249b58251ef1427cb4110",
            "max": 173,
            "min": 0,
            "orientation": "horizontal",
            "style": "IPY_MODEL_2e715852a2b4455e8779c98bd4b65a8f",
            "value": 173
          }
        },
        "8a17a30815a24a12a3b8bd1950c29f10": {
          "model_module": "@jupyter-widgets/controls",
          "model_module_version": "1.5.0",
          "model_name": "ProgressStyleModel",
          "state": {
            "_model_module": "@jupyter-widgets/controls",
            "_model_module_version": "1.5.0",
            "_model_name": "ProgressStyleModel",
            "_view_count": null,
            "_view_module": "@jupyter-widgets/base",
            "_view_module_version": "1.2.0",
            "_view_name": "StyleView",
            "bar_color": null,
            "description_width": ""
          }
        },
        "954c0fa297ad4cfdb33e839d063ff6dc": {
          "model_module": "@jupyter-widgets/base",
          "model_module_version": "1.2.0",
          "model_name": "LayoutModel",
          "state": {
            "_model_module": "@jupyter-widgets/base",
            "_model_module_version": "1.2.0",
            "_model_name": "LayoutModel",
            "_view_count": null,
            "_view_module": "@jupyter-widgets/base",
            "_view_module_version": "1.2.0",
            "_view_name": "LayoutView",
            "align_content": null,
            "align_items": null,
            "align_self": null,
            "border": null,
            "bottom": null,
            "display": null,
            "flex": null,
            "flex_flow": null,
            "grid_area": null,
            "grid_auto_columns": null,
            "grid_auto_flow": null,
            "grid_auto_rows": null,
            "grid_column": null,
            "grid_gap": null,
            "grid_row": null,
            "grid_template_areas": null,
            "grid_template_columns": null,
            "grid_template_rows": null,
            "height": null,
            "justify_content": null,
            "justify_items": null,
            "left": null,
            "margin": null,
            "max_height": null,
            "max_width": null,
            "min_height": null,
            "min_width": null,
            "object_fit": null,
            "object_position": null,
            "order": null,
            "overflow": null,
            "overflow_x": null,
            "overflow_y": null,
            "padding": null,
            "right": null,
            "top": null,
            "visibility": null,
            "width": null
          }
        },
        "af456670bab44e15ba86ed97793799ad": {
          "model_module": "@jupyter-widgets/controls",
          "model_module_version": "1.5.0",
          "model_name": "HBoxModel",
          "state": {
            "_dom_classes": [],
            "_model_module": "@jupyter-widgets/controls",
            "_model_module_version": "1.5.0",
            "_model_name": "HBoxModel",
            "_view_count": null,
            "_view_module": "@jupyter-widgets/controls",
            "_view_module_version": "1.5.0",
            "_view_name": "HBoxView",
            "box_style": "",
            "children": [
              "IPY_MODEL_54b56394785f49e3a64d62b530381ba5",
              "IPY_MODEL_7e42ae559b3c40c0a0018698cbd35306",
              "IPY_MODEL_69b58f32f4554634b02b2c72b60fc1e5"
            ],
            "layout": "IPY_MODEL_e72ba9b44537457eb83779e251976464"
          }
        },
        "b54e9a8af8e249b58251ef1427cb4110": {
          "model_module": "@jupyter-widgets/base",
          "model_module_version": "1.2.0",
          "model_name": "LayoutModel",
          "state": {
            "_model_module": "@jupyter-widgets/base",
            "_model_module_version": "1.2.0",
            "_model_name": "LayoutModel",
            "_view_count": null,
            "_view_module": "@jupyter-widgets/base",
            "_view_module_version": "1.2.0",
            "_view_name": "LayoutView",
            "align_content": null,
            "align_items": null,
            "align_self": null,
            "border": null,
            "bottom": null,
            "display": null,
            "flex": null,
            "flex_flow": null,
            "grid_area": null,
            "grid_auto_columns": null,
            "grid_auto_flow": null,
            "grid_auto_rows": null,
            "grid_column": null,
            "grid_gap": null,
            "grid_row": null,
            "grid_template_areas": null,
            "grid_template_columns": null,
            "grid_template_rows": null,
            "height": null,
            "justify_content": null,
            "justify_items": null,
            "left": null,
            "margin": null,
            "max_height": null,
            "max_width": null,
            "min_height": null,
            "min_width": null,
            "object_fit": null,
            "object_position": null,
            "order": null,
            "overflow": null,
            "overflow_x": null,
            "overflow_y": null,
            "padding": null,
            "right": null,
            "top": null,
            "visibility": null,
            "width": null
          }
        },
        "caa2ccc7f4f84a0287e2d8c1860b53f5": {
          "model_module": "@jupyter-widgets/base",
          "model_module_version": "1.2.0",
          "model_name": "LayoutModel",
          "state": {
            "_model_module": "@jupyter-widgets/base",
            "_model_module_version": "1.2.0",
            "_model_name": "LayoutModel",
            "_view_count": null,
            "_view_module": "@jupyter-widgets/base",
            "_view_module_version": "1.2.0",
            "_view_name": "LayoutView",
            "align_content": null,
            "align_items": null,
            "align_self": null,
            "border": null,
            "bottom": null,
            "display": null,
            "flex": null,
            "flex_flow": null,
            "grid_area": null,
            "grid_auto_columns": null,
            "grid_auto_flow": null,
            "grid_auto_rows": null,
            "grid_column": null,
            "grid_gap": null,
            "grid_row": null,
            "grid_template_areas": null,
            "grid_template_columns": null,
            "grid_template_rows": null,
            "height": null,
            "justify_content": null,
            "justify_items": null,
            "left": null,
            "margin": null,
            "max_height": null,
            "max_width": null,
            "min_height": null,
            "min_width": null,
            "object_fit": null,
            "object_position": null,
            "order": null,
            "overflow": null,
            "overflow_x": null,
            "overflow_y": null,
            "padding": null,
            "right": null,
            "top": null,
            "visibility": null,
            "width": null
          }
        },
        "cd7d0dde01a348e89a05d5a2be4a8cdb": {
          "model_module": "@jupyter-widgets/controls",
          "model_module_version": "1.5.0",
          "model_name": "DescriptionStyleModel",
          "state": {
            "_model_module": "@jupyter-widgets/controls",
            "_model_module_version": "1.5.0",
            "_model_name": "DescriptionStyleModel",
            "_view_count": null,
            "_view_module": "@jupyter-widgets/base",
            "_view_module_version": "1.2.0",
            "_view_name": "StyleView",
            "description_width": ""
          }
        },
        "e72ba9b44537457eb83779e251976464": {
          "model_module": "@jupyter-widgets/base",
          "model_module_version": "1.2.0",
          "model_name": "LayoutModel",
          "state": {
            "_model_module": "@jupyter-widgets/base",
            "_model_module_version": "1.2.0",
            "_model_name": "LayoutModel",
            "_view_count": null,
            "_view_module": "@jupyter-widgets/base",
            "_view_module_version": "1.2.0",
            "_view_name": "LayoutView",
            "align_content": null,
            "align_items": null,
            "align_self": null,
            "border": null,
            "bottom": null,
            "display": null,
            "flex": null,
            "flex_flow": null,
            "grid_area": null,
            "grid_auto_columns": null,
            "grid_auto_flow": null,
            "grid_auto_rows": null,
            "grid_column": null,
            "grid_gap": null,
            "grid_row": null,
            "grid_template_areas": null,
            "grid_template_columns": null,
            "grid_template_rows": null,
            "height": null,
            "justify_content": null,
            "justify_items": null,
            "left": null,
            "margin": null,
            "max_height": null,
            "max_width": null,
            "min_height": null,
            "min_width": null,
            "object_fit": null,
            "object_position": null,
            "order": null,
            "overflow": null,
            "overflow_x": null,
            "overflow_y": null,
            "padding": null,
            "right": null,
            "top": null,
            "visibility": null,
            "width": null
          }
        },
        "ead8b7299a93436595adeef3c9f41727": {
          "model_module": "@jupyter-widgets/controls",
          "model_module_version": "1.5.0",
          "model_name": "DescriptionStyleModel",
          "state": {
            "_model_module": "@jupyter-widgets/controls",
            "_model_module_version": "1.5.0",
            "_model_name": "DescriptionStyleModel",
            "_view_count": null,
            "_view_module": "@jupyter-widgets/base",
            "_view_module_version": "1.2.0",
            "_view_name": "StyleView",
            "description_width": ""
          }
        },
        "ecb3c727d42c4f1bac243d8bdf0f0efb": {
          "model_module": "@jupyter-widgets/controls",
          "model_module_version": "1.5.0",
          "model_name": "DescriptionStyleModel",
          "state": {
            "_model_module": "@jupyter-widgets/controls",
            "_model_module_version": "1.5.0",
            "_model_name": "DescriptionStyleModel",
            "_view_count": null,
            "_view_module": "@jupyter-widgets/base",
            "_view_module_version": "1.2.0",
            "_view_name": "StyleView",
            "description_width": ""
          }
        },
        "f45034ff491541a392d52367166b4bb7": {
          "model_module": "@jupyter-widgets/controls",
          "model_module_version": "1.5.0",
          "model_name": "HBoxModel",
          "state": {
            "_dom_classes": [],
            "_model_module": "@jupyter-widgets/controls",
            "_model_module_version": "1.5.0",
            "_model_name": "HBoxModel",
            "_view_count": null,
            "_view_module": "@jupyter-widgets/controls",
            "_view_module_version": "1.5.0",
            "_view_name": "HBoxView",
            "box_style": "",
            "children": [
              "IPY_MODEL_63c51112b7b44a67a316c7a33362a59c",
              "IPY_MODEL_118758d4994947938c871c02406ea064",
              "IPY_MODEL_033ce516a1e849a89cb9df926b660ece"
            ],
            "layout": "IPY_MODEL_954c0fa297ad4cfdb33e839d063ff6dc"
          }
        }
      }
    }
  },
  "nbformat": 4,
  "nbformat_minor": 0
}
